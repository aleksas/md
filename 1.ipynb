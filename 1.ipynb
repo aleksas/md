{
  "nbformat": 4,
  "nbformat_minor": 0,
  "metadata": {
    "colab": {
      "name": "LITE ON LTLD5057 .ipynb",
      "provenance": [],
      "authorship_tag": "ABX9TyMze/0Gy6onyreaL8LRo269",
      "include_colab_link": true
    },
    "kernelspec": {
      "name": "python3",
      "display_name": "Python 3"
    }
  },
  "cells": [
    {
      "cell_type": "markdown",
      "metadata": {
        "id": "Cv2NWu-Ict5k",
        "colab_type": "text"
      },
      "source": [
        "[Jameco PDF source](https://www.jameco.com/Jameco/Products/ProdDS/2120428.pdf)\n",
        "\n",
        "# LITE ON LTLD505T\n",
        "Visible Laser Diodes LTLD505T\n",
        "\n",
        "## Features \n",
        "Liton's LTLD505T low-cost AlGainP laser diode emits highly visible 650 nm output light with low threshold current and high output efficiency. A diffraction-limited single spatial mode beam output allows easy collimation with readily available optics. The active layer is MOCVD grown strained quantum well epitaxial structure. The high output efficiency is achieved by optimized device structure desingn. Both laser facets are coated with multilayer dielectric to assure high performance and reliability. APIN photo-diode is included with each laser for output power monitoring. Lition's LTLD505T is ideal for pointing, alignment, and bar code scanning applications. \n"
      ]
    },
    {
      "cell_type": "markdown",
      "metadata": {
        "id": "wMESWuYIbyGc",
        "colab_type": "text"
      },
      "source": [
        "## Electro-optical Characteristic(Tc=25°C) \n",
        "$$\\begin{array}{|l|c|c|c|c|c|c|}\n",
        "\\hline {\\text { ITEMS }} & \\text { SYMBOL } & \\text { TEST CONDITION } & \\text { MIN } & \\text { TYP. } & \\text { MAX } & \\text { UNIT } \\\\\n",
        "\\hline \\text { Optical Output Power } & \\text P_{0} & \\text { Kink Free } & 5 & - & - & mW \\\\\n",
        "\\hline \\text { Threshold Current } & I_{th} & - & - & 35 & 60 & mA \\\\\n",
        "\\hline \\text { Operation Current } & I_{op} & P_{0}=5 mW & - & 45 & 70 & mA \\\\\n",
        "\\hline \\text { Operation Voltage } & V_{\\infty} & P_{0}=5 mW & - & 2.4 & 2.6 & v \\\\\n",
        "\\hline \\text { Lasing Wavelength } & \\lambda_{oo} & P_{0}=5 mW & 645 & 650 & 655 & nm \\\\\n",
        "\\hline \\text { Slope Efficiency } & \\eta & 3 mW \\sim 5 mW & 0.1 & 0.4 & - & mW / mA \\\\\n",
        "\\hline \\text { BeamDivergence } & \\theta_{\\perp} & P_{0}=5 mW, FWHM & - & 35 & - & deg. \\\\\n",
        " & \\theta_{/ /} & Po=5 mW, FW+M & - & 8 & - & deg. \\\\\n",
        "\\hline \\text { Monitor Curent } & I_{m} & P_{0}=5 mW & 0.1 & 0.55 & 0.85 & mA \\\\\n",
        "\\hline\n",
        "\\end{array}$$"
      ]
    },
    {
      "cell_type": "markdown",
      "metadata": {
        "id": "356hnEZDdUa9",
        "colab_type": "text"
      },
      "source": [
        "\n",
        "![](2.svg)\n",
        "\n",
        "1. Laser diode cathode\n",
        "\n",
        "2. Laser diode anode and photodiode cathode\n",
        "\n",
        "3. Photodiode anode"
      ]
    },
    {
      "cell_type": "markdown",
      "metadata": {
        "id": "gZKGmzsNcGHF",
        "colab_type": "text"
      },
      "source": [
        "\n",
        "## Absolute Maximum Ratings(Tc=25 'C) \n",
        "\n",
        "$$\\begin{array}{|l|c|c|c|}\n",
        "\\hline ITEMS & SYMBOL & RATINGS & UNIT \\\\\n",
        "\\hline \\text{Optical Output Power} & P_{0} & 6 & mW \\\\\n",
        "\\hline \\text{LD Reverse Voltage} & V_{R(LD)} & 2 & v \\\\\n",
        "\\hline \\text{PD Reverse Voltage} & V_{R(PD)} & 30 & V \\\\\n",
        "\\hline \\text{Operation Case Temperature} & T_{C} & -10 \\sim+50 & C \\\\\n",
        "\\hline\n",
        "\\end{array}$$\n",
        "\n",
        "\n",
        "![](4.svg)\n",
        "\n",
        "![](5.svg)"
      ]
    },
    {
      "cell_type": "markdown",
      "metadata": {},
      "source": [
        "\n",
        "![](4.svg)\n",
        "\n",
        "![](5.svg)"
      ]
    },
    {
      "cell_type": "code",
      "execution_count": null,
      "metadata": {},
      "outputs": [],
      "source": []
    }
  ]
}